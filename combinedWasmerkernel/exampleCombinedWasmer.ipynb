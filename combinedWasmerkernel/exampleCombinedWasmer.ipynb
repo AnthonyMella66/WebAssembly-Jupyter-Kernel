{
 "cells": [
  {
   "cell_type": "markdown",
   "metadata": {},
   "source": [
    "# Example Notebook\n",
    "This notebook will show some basic functionality of the wasmerKernel as well as some examples. There are examples showcasing how to run WebAssembly code and as well as error handling. The functionality outlined in [python-ext-wasmer](https://github.com/wasmerio/python-ext-wasm) repo can also be used with the kernel.\n",
    "\n",
    "## Calling WebAssembly Modules in Python\n",
    "The function below is a basic WebAssembly function that takes two integer arguments and returns the sum as output."
   ]
  },
  {
   "cell_type": "code",
   "execution_count": 1,
   "metadata": {},
   "outputs": [
    {
     "name": "stdout",
     "output_type": "stream",
     "text": [
      "Created Module : myModule\n",
      "Created Instance : myModule"
     ]
    }
   ],
   "source": [
    "*WASM* myModule \n",
    "(module\n",
    " (table 0 anyfunc)\n",
    " (memory $0 1)\n",
    " (export \"memory\" (memory $0))\n",
    " (export \"add\" (func $add))\n",
    " (func $add (; 0 ;) (param $0 i32) (param $1 i32) (result i32)\n",
    "  (i32.add\n",
    "   (get_local $1)\n",
    "   (get_local $0)\n",
    "  )\n",
    " )\n",
    ")"
   ]
  },
  {
   "cell_type": "markdown",
   "metadata": {},
   "source": [
    "Below is some Python code calling the respective WebAssembly functions. The modules are stored in self.modules, and the instances of the modules are stored in self.instances. They are both dictionaries and the keys are the module names, and the values for self.modules are the module, and the values for self.instances are the instances of those modules. To call a function within a WebAssembly module in Python, follow the format: ```self.instances[\"module_name\"].exports.function_name(input_args)```"
   ]
  },
  {
   "cell_type": "code",
   "execution_count": 7,
   "metadata": {},
   "outputs": [
    {
     "name": "stdout",
     "output_type": "stream",
     "text": [
      "result1: 3, result2: 6"
     ]
    }
   ],
   "source": [
    "*PYTHON*\n",
    "result1 = self.instances[\"myModule\"].exports.add(1,2)\n",
    "result2 = self.instances[\"myModule\"].exports.add(1,5)\n",
    "self.output = \"result1: {0}, result2: {1}\".format(result1, result2)"
   ]
  },
  {
   "cell_type": "markdown",
   "metadata": {},
   "source": [
    "## Error Handling\n",
    "Below is some examples regarding error handling. The first is an error with the WebAssembly syntax, the second is an error with a header, the third is an error regarding the Python syntax, and the fourth is an example of calling a webassembly function that has not been defined."
   ]
  },
  {
   "cell_type": "code",
   "execution_count": 9,
   "metadata": {},
   "outputs": [
    {
     "name": "stderr",
     "output_type": "stream",
     "text": [
      "b'./sessionFiles/temp1.wat:12:2: error: unexpected token EOF, expected ).\\n)\\n ^\\n'"
     ]
    }
   ],
   "source": [
    "*WASM* anotherModule \n",
    "(module\n",
    " (table 0 anyfunc)\n",
    " (memory $0 1)\n",
    " (export \"memory\" (memory $0))\n",
    " (export \"sub\" (func $sub))\n",
    " (func $sub (; 0 ;) (param $0 i32) (param $1 i32) (result i32)\n",
    "  (i32.sub\n",
    "   (get_local $1\n",
    "   (get_local $0)\n",
    "  )\n",
    " )\n",
    ")"
   ]
  },
  {
   "cell_type": "code",
   "execution_count": 10,
   "metadata": {},
   "outputs": [
    {
     "name": "stderr",
     "output_type": "stream",
     "text": [
      "Header not valid, please use *PYTHON* when running Python code or *WASM* for running WebAssembly code"
     ]
    }
   ],
   "source": [
    "*WASMM* anotherModule \n",
    "(module\n",
    " (table 0 anyfunc)\n",
    " (memory $0 1)\n",
    " (export \"memory\" (memory $0))\n",
    " (export \"sub\" (func $sub))\n",
    " (func $sub (; 0 ;) (param $0 i32) (param $1 i32) (result i32)\n",
    "  (i32.sub\n",
    "   (get_local $1)\n",
    "   (get_local $0)\n",
    "  )\n",
    " )\n",
    ")"
   ]
  },
  {
   "cell_type": "code",
   "execution_count": 8,
   "metadata": {},
   "outputs": [
    {
     "name": "stderr",
     "output_type": "stream",
     "text": [
      "Error: name 'sefl' is not defined"
     ]
    }
   ],
   "source": [
    "*PYTHON*\n",
    "# Error in \"sefl\"\n",
    "self.output = sefl.instances[\"myModule\"].exports.add(1,2)"
   ]
  },
  {
   "cell_type": "code",
   "execution_count": 11,
   "metadata": {},
   "outputs": [
    {
     "name": "stderr",
     "output_type": "stream",
     "text": [
      "Error: 'not_defined'"
     ]
    }
   ],
   "source": [
    "*PYTHON*\n",
    "self.output = self.instances[\"not_defined\"].exports.sub(7,3)"
   ]
  },
  {
   "cell_type": "markdown",
   "metadata": {},
   "source": [
    "## Advanced functionality  \n",
    " * Python code can be written which uses all wasmer python extension functionality\n",
    " * This includes things such as sharing global variables, listing functions, serializing/derializing webassembly modules and more"
   ]
  },
  {
   "cell_type": "code",
   "execution_count": 1,
   "metadata": {},
   "outputs": [
    {
     "name": "stdout",
     "output_type": "stream",
     "text": [
      "Created Module : shareGlobals\n",
      "Created Instance : shareGlobals"
     ]
    }
   ],
   "source": [
    "*WASM* shareGlobals\n",
    "(module\n",
    " (global $x (export \"a\") (mut i32) (i32.const 4))\n",
    " (global $y (export \"b\") (mut i32) (i32.const 3))\n",
    "\n",
    " (func (export \"get_x\") (result i32)\n",
    "   (global.get $x))\n",
    ")"
   ]
  },
  {
   "cell_type": "code",
   "execution_count": 3,
   "metadata": {},
   "outputs": [
    {
     "name": "stdout",
     "output_type": "stream",
     "text": [
      "7"
     ]
    }
   ],
   "source": [
    "*PYTHON*\n",
    "resultY = self.instances[\"shareGlobals\"].globals.y\n",
    "self.output = resultY.value"
   ]
  }
 ],
 "metadata": {
  "kernelspec": {
   "display_name": "wasmerKernel",
   "language": "python",
   "name": "wasmerkernel"
  },
  "language_info": {
   "file_extension": ".wat",
   "mimetype": "text/plain",
   "name": "wasmerKernel"
  }
 },
 "nbformat": 4,
 "nbformat_minor": 2
}
