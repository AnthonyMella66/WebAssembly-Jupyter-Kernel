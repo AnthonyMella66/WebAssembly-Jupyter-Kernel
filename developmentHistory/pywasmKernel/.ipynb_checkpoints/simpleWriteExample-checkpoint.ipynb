{
 "cells": [
  {
   "cell_type": "code",
   "execution_count": 1,
   "metadata": {},
   "outputs": [
    {
     "name": "stdout",
     "output_type": "stream",
     "text": [
      "7\n"
     ]
    }
   ],
   "source": [
    "(module\n",
    "  (import \"P0lib\" \"write\" (func $write (param i32)))\n",
    "  (global $x (mut i32) i32.const 3)\n",
    "  (global $y (mut i32) i32.const 4)\n",
    "  (func $program\n",
    "    global.get $x\n",
    "    global.get $y\n",
    "    i32.add\n",
    "    call $write\n",
    "  )\n",
    "  (start $program)\n",
    ")"
   ]
  },
  {
   "cell_type": "code",
   "execution_count": 2,
   "metadata": {},
   "outputs": [
    {
     "name": "stdout",
     "output_type": "stream",
     "text": [
      "-1\n",
      "10\n",
      "4\n"
     ]
    }
   ],
   "source": [
    "(module\n",
    "  (import \"P0lib\" \"write\" (func $write (param i32)))\n",
    "  (global $x (mut i32) i32.const 3)\n",
    "  (global $y (mut i32) i32.const 4)\n",
    "  (func $sampleProg\n",
    "    global.get $x\n",
    "    global.get $y\n",
    "    i32.sub\n",
    "    call $write\n",
    "    i32.const 5\n",
    "    i32.const 5\n",
    "    i32.add\n",
    "    call $write\n",
    "    i32.const 4\n",
    "    call $write\n",
    "  )\n",
    "  (start $sampleProg)\n",
    ")"
   ]
  },
  {
   "cell_type": "code",
   "execution_count": 3,
   "metadata": {},
   "outputs": [
    {
     "name": "stderr",
     "output_type": "stream",
     "text": [
      "b'./sessionFiles/temp.wat:17:1: error: unexpected token EOF, expected ).\\n'"
     ]
    }
   ],
   "source": [
    "(module\n",
    "  (import \"P0lib\" \"write\" (func $write (param i32)))\n",
    "  (global $x (mut i32) i32.const 3)\n",
    "  (global $y (mut i32) i32.const 4)\n",
    "  (export \"sampleProg\" (func $sampleProg))\n",
    "  (func $sampleProg\n",
    "    global.get $x\n",
    "    global.get $y\n",
    "    i32.sub\n",
    "    call $write\n",
    "    i32.const 5\n",
    "    i32.const 5\n",
    "    i32.add\n",
    "    call $write\n",
    "  )\n",
    "  (start $sampleProg)\n"
   ]
  },
  {
   "cell_type": "code",
   "execution_count": 4,
   "metadata": {},
   "outputs": [
    {
     "name": "stderr",
     "output_type": "stream",
     "text": [
      "b'./sessionFiles/temp.wat:14:5: error: type mismatch in function, expected [] but got [i32]\\n    i32.const 4\\n    ^^^^^^^^^\\n'"
     ]
    }
   ],
   "source": [
    "(module\n",
    "  (import \"P0lib\" \"write\" (func $write (param i32)))\n",
    "  (global $x (mut i32) i32.const 3)\n",
    "  (global $y (mut i32) i32.const 4)\n",
    "  (func $sampleProg\n",
    "    global.get $x\n",
    "    global.get $y\n",
    "    i32.sub\n",
    "    call $write\n",
    "    i32.const 5\n",
    "    i32.const 5\n",
    "    i32.add\n",
    "    call $write\n",
    "    i32.const 4\n",
    "  )\n",
    "  (start $sampleProg)\n",
    ")"
   ]
  },
  {
   "cell_type": "code",
   "execution_count": null,
   "metadata": {},
   "outputs": [],
   "source": []
  }
 ],
 "metadata": {
  "kernelspec": {
   "display_name": "simplePywasmkernel",
   "language": "python",
   "name": "simplepywasmkernel"
  },
  "language_info": {
   "file_extension": ".wat",
   "mimetype": "text/plain",
   "name": "simplePywasmkernel"
  }
 },
 "nbformat": 4,
 "nbformat_minor": 2
}
