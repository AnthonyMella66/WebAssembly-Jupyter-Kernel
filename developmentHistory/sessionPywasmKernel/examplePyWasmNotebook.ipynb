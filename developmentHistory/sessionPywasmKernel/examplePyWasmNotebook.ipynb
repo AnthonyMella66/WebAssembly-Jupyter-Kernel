{
 "cells": [
  {
   "cell_type": "code",
   "execution_count": 1,
   "metadata": {},
   "outputs": [
    {
     "name": "stdout",
     "output_type": "stream",
     "text": [
      "Module Written - ./sessionFiles/temp0.wasm"
     ]
    }
   ],
   "source": [
    "*MODULE*\n",
    "(module\n",
    " (table 0 anyfunc)\n",
    " (memory $0 1)\n",
    " (export \"memory\" (memory $0))\n",
    " (export \"add\" (func $add))\n",
    " (export \"sub\" (func $sub))\n",
    " (export \"mul\" (func $mul))\n",
    " (func $add (; 0 ;) (param $0 i32) (param $1 i32) (result i32)\n",
    "  (i32.add\n",
    "   (get_local $1)\n",
    "   (get_local $0)\n",
    "  )\n",
    " )\n",
    " (func $sub (; 0 ;) (param $0 i32) (param $1 i32) (result i32)\n",
    "  (i32.sub\n",
    "   (get_local $1)\n",
    "   (get_local $0)\n",
    "  )\n",
    " )\n",
    " (func $mul (; 0 ;) (param $0 i32) (param $1 i32) (result i32)\n",
    "  (i32.mul\n",
    "   (get_local $1)\n",
    "   (get_local $0)\n",
    "  )\n",
    " )\n",
    ")\n"
   ]
  },
  {
   "cell_type": "code",
   "execution_count": 2,
   "metadata": {},
   "outputs": [
    {
     "name": "stdout",
     "output_type": "stream",
     "text": [
      "Module Written - ./sessionFiles/temp1.wasm"
     ]
    }
   ],
   "source": [
    "*MODULE*\n",
    "(module\n",
    " (table 0 anyfunc)\n",
    " (memory $0 1)\n",
    " (export \"memory\" (memory $0))\n",
    " (export \"addAnother\" (func $addAnother))\n",
    " (export \"subAnother\" (func $subAnother))\n",
    " (export \"noParamAdd\" (func $noParamAdd))\n",
    " (func $addAnother (; 0 ;) (param $0 i32) (param $1 i32) (result i32)\n",
    "  (i32.add\n",
    "   (get_local $1)\n",
    "   (get_local $0)\n",
    "  )\n",
    " )\n",
    " (func $subAnother (; 0 ;) (param $0 i32) (param $1 i32) (result i32)\n",
    "  (i32.sub\n",
    "   (get_local $1)\n",
    "   (get_local $0)\n",
    "  )\n",
    " )\n",
    " (func $noParamAdd (; 0 ;) (result i32)\n",
    "  i32.const 4\n",
    "  i32.const 4\n",
    "  i32.add\n",
    " )\n",
    ")"
   ]
  },
  {
   "cell_type": "code",
   "execution_count": 3,
   "metadata": {},
   "outputs": [
    {
     "name": "stderr",
     "output_type": "stream",
     "text": [
      "Missing header, should be *MODULE* or *EXEC*"
     ]
    }
   ],
   "source": [
    "(module\n",
    "  (import \"P0lib\" \"write\" (func $write (param i32)))\n",
    "  (global $x (mut i32) i32.const 3)\n",
    "  (global $y (mut i32) i32.const 4)\n",
    "  (func $program\n",
    "    global.get $x\n",
    "    global.get $y\n",
    "    i32.add\n",
    "    call $write\n",
    "  )\n",
    "  (start $program)\n",
    ")"
   ]
  },
  {
   "cell_type": "code",
   "execution_count": 4,
   "metadata": {},
   "outputs": [
    {
     "name": "stdout",
     "output_type": "stream",
     "text": [
      "8\n",
      "15\n",
      "-3\n"
     ]
    }
   ],
   "source": [
    "*EXEC*\n",
    "noParamAdd\n",
    "add 7 8\n",
    "sub 4 1"
   ]
  },
  {
   "cell_type": "code",
   "execution_count": 5,
   "metadata": {},
   "outputs": [
    {
     "name": "stderr",
     "output_type": "stream",
     "text": [
      "No matching function found"
     ]
    }
   ],
   "source": [
    "*EXEC*\n",
    "notFound"
   ]
  },
  {
   "cell_type": "code",
   "execution_count": 6,
   "metadata": {},
   "outputs": [
    {
     "name": "stdout",
     "output_type": "stream",
     "text": [
      "6\n"
     ]
    }
   ],
   "source": [
    "*EXEC*\n",
    "notFound\n",
    "add 4 2"
   ]
  },
  {
   "cell_type": "code",
   "execution_count": null,
   "metadata": {},
   "outputs": [],
   "source": []
  }
 ],
 "metadata": {
  "kernelspec": {
   "display_name": "wasmkernel",
   "language": "python",
   "name": "wasmkernel"
  },
  "language_info": {
   "file_extension": ".wat",
   "mimetype": "text/plain",
   "name": "wasmkernel"
  }
 },
 "nbformat": 4,
 "nbformat_minor": 2
}
